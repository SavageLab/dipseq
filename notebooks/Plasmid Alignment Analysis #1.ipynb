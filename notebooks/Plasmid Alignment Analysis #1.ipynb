{
 "metadata": {
  "name": ""
 },
 "nbformat": 3,
 "nbformat_minor": 0,
 "worksheets": [
  {
   "cells": [
    {
     "cell_type": "code",
     "collapsed": false,
     "input": [
      "# Add the parent directory to the path so we can import stuff.\n",
      "\n",
      "import os, sys, inspect\n",
      "currentdir = os.path.dirname(os.path.abspath(inspect.getfile(inspect.currentframe())))\n",
      "parentdir = os.path.dirname(currentdir)\n",
      "sys.path.insert(0, parentdir) "
     ],
     "language": "python",
     "metadata": {},
     "outputs": [],
     "prompt_number": 48
    },
    {
     "cell_type": "code",
     "collapsed": false,
     "input": [
      "import glob\n",
      "import pylab\n",
      "import numpy as np\n",
      "\n",
      "from Bio import SearchIO\n",
      "from utils.read_matches import ReadMatches\n",
      "\n",
      "\n",
      "plasmid_r1_matches = SearchIO.parse('../_read_filter_plasmid_data/short_dana-C_S12_L001_R1_001_plasmid_aligned.psl', 'blat-psl')\n",
      "plasmid_r2_matches = SearchIO.parse('../_read_filter_plasmid_data/short_dana-C_S12_L001_R2_001_plasmid_aligned.psl', 'blat-psl')\n",
      "\n",
      "all_read_pairs = {}\n",
      "fragmented_reads = set()\n",
      "\n",
      "for qresult in plasmid_r1_matches:\n",
      "    hsp = qresult.hsps[0]\n",
      "    if hsp.is_fragmented:\n",
      "        fragmented_reads.add(qresult.id)\n",
      "        continue\n",
      "        \n",
      "    all_read_pairs[qresult.id] = [hsp, None]\n",
      "  \n",
      "for qresult in plasmid_r2_matches:\n",
      "    hsp = qresult.hsps[0]\n",
      "    if (qresult.id in all_read_pairs and\n",
      "        not hsp.is_fragmented):\n",
      "        all_read_pairs[qresult.id][1] = qresult.hsps[0]\n",
      "\n",
      "keys_to_delete = set()\n",
      "for key, values in all_read_pairs.iteritems():\n",
      "    if values[1] is None:\n",
      "        keys_to_delete.add(key)\n",
      "for key in keys_to_delete:\n",
      "    del all_read_pairs[key]\n"
     ],
     "language": "python",
     "metadata": {},
     "outputs": [],
     "prompt_number": 75
    },
    {
     "cell_type": "code",
     "collapsed": false,
     "input": [
      "print fragmented_reads\n"
     ],
     "language": "python",
     "metadata": {},
     "outputs": [
      {
       "output_type": "stream",
       "stream": "stdout",
       "text": [
        "set(['M01065:117:000000000-A5AGY:1:1101:9726:2944', 'M01065:117:000000000-A5AGY:1:1101:17186:3179', 'M01065:117:000000000-A5AGY:1:1101:11092:2351', 'M01065:117:000000000-A5AGY:1:1101:19706:4619', 'M01065:117:000000000-A5AGY:1:1101:17354:4924', 'M01065:117:000000000-A5AGY:1:1101:16354:4614', 'M01065:117:000000000-A5AGY:1:1101:19709:2683', 'M01065:117:000000000-A5AGY:1:1101:11171:5763', 'M01065:117:000000000-A5AGY:1:1101:22398:5473', 'M01065:117:000000000-A5AGY:1:1101:14197:1924'])\n"
       ]
      }
     ],
     "prompt_number": 76
    },
    {
     "cell_type": "code",
     "collapsed": false,
     "input": [
      "x = 1\n",
      "for key in all_read_pairs:\n",
      "    if x<=5:\n",
      "        print all_read_pairs[key][0]\n",
      "        print all_read_pairs[key][1]\n",
      "    x += 1"
     ],
     "language": "python",
     "metadata": {},
     "outputs": [
      {
       "ename": "IndentationError",
       "evalue": "expected an indented block (<ipython-input-72-871ca2af4588>, line 6)",
       "output_type": "pyerr",
       "traceback": [
        "\u001b[0;36m  File \u001b[0;32m\"<ipython-input-72-871ca2af4588>\"\u001b[0;36m, line \u001b[0;32m6\u001b[0m\n\u001b[0;31m    x += 1\u001b[0m\n\u001b[0m    ^\u001b[0m\n\u001b[0;31mIndentationError\u001b[0m\u001b[0;31m:\u001b[0m expected an indented block\n"
       ]
      }
     ],
     "prompt_number": 72
    },
    {
     "cell_type": "code",
     "collapsed": false,
     "input": [
      "PLASMID_LEN = 3432\n",
      "\n",
      "def getlength(hsp1, hsp2):\n",
      "    all_indices = []\n",
      "    all_indices.extend(hsp1.hit_range)\n",
      "    all_indices.extend(hsp2.hit_range)\n",
      "    max_i = max(all_indices)\n",
      "    min_i = min(all_indices)\n",
      "    ret = max_i - min_i\n",
      "    if ret > PLASMID_LEN / 2:\n",
      "        return None\n",
      "    return ret"
     ],
     "language": "python",
     "metadata": {},
     "outputs": [],
     "prompt_number": 52
    },
    {
     "cell_type": "code",
     "collapsed": false,
     "input": [
      "all_lengths = []\n",
      "for hsp1, hsp2 in all_read_pairs.itervalues():\n",
      "    length = getlength(hsp1, hsp2)\n",
      "    if length is not None:\n",
      "        all_lengths.append(length)"
     ],
     "language": "python",
     "metadata": {},
     "outputs": [],
     "prompt_number": 64
    },
    {
     "cell_type": "code",
     "collapsed": false,
     "input": [
      "for hsp1, hsp2 in all_read_pairs.itervalues():\n",
      "    print hsp1.query_strand, hsp1.hit_range, hsp2.query_strand, hsp2.hit_range"
     ],
     "language": "python",
     "metadata": {},
     "outputs": [
      {
       "output_type": "stream",
       "stream": "stdout",
       "text": [
        "-1 (96, 244) 1 (3183, 3333)\n",
        "-1 (1618, 1768) 1 (1284, 1433)\n",
        "-1 (1276, 1424) 1 (1114, 1263)\n",
        "-1 (2009, 2159) 1 (1896, 2046)\n",
        "1 (791, 941) -1 (1099, 1249)\n",
        "1 (68, 218) -1 (518, 668)\n",
        "-1 (2702, 2850) 1 (2528, 2678)\n",
        "1 (985, 1135) -1 (1381, 1529)\n",
        "-1 (89, 239) 1 (3244, 3393)\n",
        "1 (749, 899) -1 (895, 1045)\n",
        "-1 (1686, 1834) 1 (1516, 1665)\n",
        "-1 (2138, 2288) 1 (1894, 2044)\n",
        "-1 (1398, 1546) 1 (1206, 1355)\n",
        "1 (1310, 1459) -1 (1651, 1801)\n"
       ]
      }
     ],
     "prompt_number": 68
    },
    {
     "cell_type": "code",
     "collapsed": false,
     "input": [
      "mean_length = np.mean(all_lengths)\n",
      "std_length = np.std(all_lengths)\n",
      "print mean_length\n",
      "pylab.figure()\n",
      "pylab.hist(all_lengths, bins=100)\n",
      "pylab.plot(xs, normal_dist, 'g--')\n",
      "pylab.plot([mean_length, mean_length], [0.0, 150.0], 'r--')\n",
      "pylab.show()"
     ],
     "language": "python",
     "metadata": {},
     "outputs": [
      {
       "output_type": "stream",
       "stream": "stdout",
       "text": [
        "401.666666667\n"
       ]
      },
      {
       "metadata": {},
       "output_type": "display_data",
       "png": "[encoded data removed]",
       "text": [
        "<matplotlib.figure.Figure at 0x7dc2670>"
       ]
      }
     ],
     "prompt_number": 69
    },
    {
     "cell_type": "code",
     "collapsed": false,
     "input": [
      "var_length = np.var"
     ],
     "language": "python",
     "metadata": {},
     "outputs": [],
     "prompt_number": 45
    },
    {
     "cell_type": "code",
     "collapsed": false,
     "input": [],
     "language": "python",
     "metadata": {},
     "outputs": [],
     "prompt_number": 45
    }
   ],
   "metadata": {}
  }
 ]
}