{
 "metadata": {
  "name": ""
 },
 "nbformat": 3,
 "nbformat_minor": 0,
 "worksheets": [
  {
   "cells": [
    {
     "cell_type": "code",
     "collapsed": false,
     "input": [
      "cd ~/Desktop/popseq/"
     ],
     "language": "python",
     "metadata": {},
     "outputs": [
      {
       "output_type": "stream",
       "stream": "stdout",
       "text": [
        "/Users/Nadler/Desktop/popseq\n"
       ]
      }
     ],
     "prompt_number": 2
    },
    {
     "cell_type": "code",
     "collapsed": false,
     "input": [
      "import glob\n",
      "\n",
      "# Filenames for the first end of the paired ends.\n",
      "insert_aligned_fnames = glob.glob('../popseq/_read_filter_data/dana-*R1*_insert_aligned.psl')\n",
      "backbone_aligned_fnames = glob.glob('../popseq/_read_filter_data/dana*R1*_backbone_aligned.psl')\n",
      "insert_aligned_fnames = sorted(insert_aligned_fnames)\n",
      "backbone_aligned_fnames = sorted(backbone_aligned_fnames)\n"
     ],
     "language": "python",
     "metadata": {},
     "outputs": [],
     "prompt_number": 11
    },
    {
     "cell_type": "code",
     "collapsed": false,
     "input": [
      "import numpy as np\n",
      "\n",
      "from Bio import SearchIO\n",
      "\n",
      "insert_aligned_ids = {}\n",
      "#insert_aligned_ids_3p = {}\n",
      "#insert_aligned_ids_5p = {}\n",
      "\n",
      "for insert_aligned_fname in insert_aligned_fnames:\n",
      "    insert_aligned_reader = SearchIO.parse(insert_aligned_fname, 'blat-psl')\n",
      "    for record in insert_aligned_reader:\n",
      "        for hsp in record.hsps:\n",
      "            query_strands = np.array([f.query_strand for f in hsp.fragments])\n",
      "            # NOTE: as far as I can tell, all fragments always come from the\n",
      "            # same query strand...\n",
      "            if (hsp.query_id in insert_aligned_ids and\n",
      "                query_strands[0] != insert_aligned_ids[hsp.query_id][2]):\n",
      "                print 'Already saw ID', hsp.query_id\n",
      "                \n",
      "            hit_end = '3p' if hsp.hit_id.endswith('_3p') else '5p'\n",
      "            if query_strands[0] == 1:\n",
      "                query_loc = hsp.query_start + 1 if hit_end == '5p' else hsp.query_end\n",
      "            else:\n",
      "                query_loc = hsp.query_end if hit_end == '5p' else hsp.query_start + 1    \n",
      "            insert_aligned_ids[hsp.query_id] = (hit_end, query_loc, query_strands[0])\n",
      "            #if hsp.hit_id.endswith('_3p'):\n",
      "             #   insert_aligned_ids_3p[hsp.query_id] = (query_loc"
     ],
     "language": "python",
     "metadata": {},
     "outputs": [
      {
       "output_type": "stream",
       "stream": "stdout",
       "text": [
        "Already saw ID M01065:117:000000000-A5AGY:1:1105:15042:4120\n",
        "Already saw ID"
       ]
      },
      {
       "output_type": "stream",
       "stream": "stdout",
       "text": [
        " M01065:117:000000000-A5AGY:1:2104:18448:8268\n",
        "Already saw ID"
       ]
      },
      {
       "output_type": "stream",
       "stream": "stdout",
       "text": [
        " M01065:117:000000000-A5AGY:1:2104:13999:24205\n",
        "Already saw ID"
       ]
      },
      {
       "output_type": "stream",
       "stream": "stdout",
       "text": [
        " M01065:117:000000000-A5AGY:1:2105:11126:10168\n",
        "Already saw ID"
       ]
      },
      {
       "output_type": "stream",
       "stream": "stdout",
       "text": [
        " M01065:117:000000000-A5AGY:1:2107:15399:3460\n",
        "Already saw ID"
       ]
      },
      {
       "output_type": "stream",
       "stream": "stdout",
       "text": [
        " M01065:117:000000000-A5AGY:1:2112:22006:10001\n",
        "Already saw ID"
       ]
      },
      {
       "output_type": "stream",
       "stream": "stdout",
       "text": [
        " M01065:117:000000000-A5AGY:1:1101:18211:2887\n",
        "Already saw ID"
       ]
      },
      {
       "output_type": "stream",
       "stream": "stdout",
       "text": [
        " M01065:117:000000000-A5AGY:1:2101:16773:13381\n",
        "Already saw ID"
       ]
      },
      {
       "output_type": "stream",
       "stream": "stdout",
       "text": [
        " M01065:117:000000000-A5AGY:1:2112:14436:6893\n"
       ]
      }
     ],
     "prompt_number": 12
    },
    {
     "cell_type": "code",
     "collapsed": false,
     "input": [
      "backbone_aligned_ids = set()\n",
      "hit_counts = {}\n",
      "distances_from_insert = {}\n",
      "\n",
      "for backbone_aligned_fname in backbone_aligned_fnames:\n",
      "    backbone_aligned_reader = SearchIO.parse(backbone_aligned_fname, 'blat-psl') \n",
      "    for record in backbone_aligned_reader:\n",
      "        for hsp in record.hsps:\n",
      "            query_id = hsp.query_id\n",
      "            query_strands = np.array([f.query_strand for f in hsp.fragments])\n",
      "            query_strand = query_strands[0]\n",
      "            \n",
      "            insert_match_end, insert_match_loc, insert_query_strand = insert_aligned_ids[query_id]\n",
      "            if (query_id not in insert_aligned_ids or\n",
      "                query_strand != insert_query_strand):\n",
      "                # Insert and backbone match on opposing strands.\n",
      "                continue\n",
      "            \n",
      "            # It matters if we are considering a sequence that aligned to\n",
      "            # the start or end of the insert. At the start we want to\n",
      "            # use the end of the alignment and at the end we use the start...\n",
      "            hit_position = hsp.hit_start + 1 if insert_match_end == '3p' else hsp.hit_end\n",
      "            \n",
      "            query_position = hsp.query_end if insert_match_end == '5p' else hsp.query_start\n",
      "            \n",
      "            if query_strand == 1:\n",
      "                query_position = hsp.query_end if insert_match_end == '5p' else hsp.query_start + 1\n",
      "            else:\n",
      "                query_position = hsp.query_start + 1 if insert_match_end == '5p' else hsp.query_end\n",
      "            \n",
      "            distance_in_query = abs(query_position - insert_match_loc)\n",
      "            distances_from_insert.setdefault(hit_position, []).append(distance_in_query)\n",
      "            if distance_in_query > 20:\n",
      "                # Insert and backbone are far apart in the read.\n",
      "                continue\n",
      "            \n",
      "            backbone_aligned_ids.add(hsp.query_id)\n",
      "            hit_counts[hit_position] = hit_counts.get(hit_position, 0) + 1"
     ],
     "language": "python",
     "metadata": {},
     "outputs": [],
     "prompt_number": 15
    },
    {
     "cell_type": "code",
     "collapsed": false,
     "input": [
      "for key in sorted(hit_counts.iterkeys()):\n",
      "    print \"%s: %s\" % (key, hit_counts[key])\n",
      "\n"
     ],
     "language": "python",
     "metadata": {},
     "outputs": [
      {
       "output_type": "stream",
       "stream": "stdout",
       "text": [
        "1: 98\n",
        "4: 162\n",
        "6: 1\n",
        "49: 1\n",
        "80: 1\n",
        "122: 4\n",
        "125: 2\n",
        "126: 2\n",
        "127: 1\n",
        "129: 2\n",
        "131: 49\n",
        "132: 37261\n",
        "133: 333\n",
        "134: 82\n",
        "135: 117\n",
        "136: 125\n",
        "137: 25127\n",
        "138: 4\n",
        "139: 7\n",
        "140: 3\n",
        "141: 1\n",
        "142: 1\n",
        "143: 2\n",
        "211: 552\n",
        "213: 2\n",
        "214: 2\n",
        "332: 1\n",
        "333: 1\n",
        "335: 2\n",
        "336: 1\n",
        "337: 2225\n",
        "338: 4\n",
        "339: 2\n",
        "340: 3\n",
        "341: 1438\n",
        "342: 2\n",
        "343: 1\n",
        "345: 1\n",
        "349: 1\n",
        "350: 1\n",
        "351: 1\n",
        "360: 12\n",
        "439: 2\n",
        "451: 1181\n",
        "456: 1\n",
        "458: 1\n",
        "459: 1\n",
        "460: 1\n",
        "461: 2\n",
        "499: 1\n",
        "502: 4\n",
        "505: 3\n",
        "506: 3\n",
        "507: 1\n",
        "508: 4\n",
        "509: 24\n",
        "510: 2\n",
        "511: 17492\n",
        "512: 375\n",
        "513: 20\n",
        "514: 33\n",
        "515: 9981\n",
        "516: 8\n",
        "517: 2\n",
        "518: 1\n",
        "519: 4\n",
        "520: 1\n",
        "522: 1\n",
        "538: 1\n",
        "543: 3\n",
        "544: 3\n",
        "547: 2586\n",
        "548: 3\n",
        "549: 7\n",
        "550: 10\n",
        "551: 1436\n",
        "553: 2\n",
        "563: 1\n",
        "603: 1\n",
        "628: 10\n",
        "633: 6\n",
        "865: 1\n",
        "872: 5422\n",
        "873: 5\n",
        "874: 6\n",
        "875: 3\n",
        "876: 2\n",
        "878: 1\n",
        "937: 3\n",
        "941: 1\n",
        "945: 2\n",
        "947: 2\n",
        "950: 2\n",
        "954: 7\n",
        "955: 2\n",
        "956: 3\n",
        "957: 4\n",
        "958: 10463\n",
        "959: 36\n",
        "960: 29\n",
        "961: 25\n",
        "962: 7501\n",
        "963: 7\n",
        "964: 1\n",
        "965: 1\n",
        "967: 2\n",
        "970: 1\n",
        "979: 132\n",
        "980: 1\n",
        "981: 1\n",
        "983: 73\n",
        "994: 2\n",
        "998: 1\n",
        "1049: 5\n",
        "1061: 4\n",
        "1087: 5\n",
        "1091: 1\n",
        "1102: 4\n",
        "1110: 1\n",
        "1111: 1681\n",
        "1112: 34\n",
        "1113: 3\n",
        "1114: 7\n",
        "1115: 1242\n",
        "1116: 1\n",
        "1120: 1\n",
        "1123: 3\n",
        "1125: 1\n",
        "1126: 1\n",
        "1127: 2\n",
        "1129: 7\n",
        "1131: 1\n",
        "1132: 3\n",
        "1133: 4\n",
        "1134: 194\n",
        "1135: 9\n",
        "1137: 40\n",
        "1138: 19\n",
        "1139: 4\n",
        "1140: 21\n",
        "1141: 7286\n",
        "1142: 2\n",
        "1143: 12\n"
       ]
      }
     ],
     "prompt_number": 25
    },
    {
     "cell_type": "code",
     "collapsed": false,
     "input": [
      "n_insert_aligned = len(insert_aligned_ids)\n",
      "n_backbone_aligned = len(backbone_aligned_ids)\n",
      "frac = float(n_backbone_aligned) / float(n_insert_aligned)\n",
      "print '%.3f%%' % (frac * 100.0)"
     ],
     "language": "python",
     "metadata": {},
     "outputs": [
      {
       "output_type": "stream",
       "stream": "stdout",
       "text": [
        "68.808%\n"
       ]
      }
     ],
     "prompt_number": 16
    },
    {
     "cell_type": "code",
     "collapsed": false,
     "input": [
      "%pylab"
     ],
     "language": "python",
     "metadata": {},
     "outputs": [
      {
       "output_type": "stream",
       "stream": "stdout",
       "text": [
        "Using matplotlib backend: WXAgg\n",
        "Populating the interactive namespace from numpy and matplotlib\n"
       ]
      },
      {
       "output_type": "stream",
       "stream": "stderr",
       "text": [
        "WARNING: pylab import has clobbered these variables: ['f', 'pylab', 'record']\n",
        "`%pylab --no-import-all` prevents importing * from pylab and numpy\n"
       ]
      }
     ],
     "prompt_number": 17
    },
    {
     "cell_type": "code",
     "collapsed": false,
     "input": [
      "import pylab\n",
      "\n",
      "pylab.figure()\n",
      "positions = sorted(distances_from_insert.keys())\n",
      "mean_displacement = [np.mean(distances_from_insert[k])\n",
      "                     for k in positions]\n",
      "pylab.plot(positions, mean_displacement, 'r.')\n",
      "pylab.xlabel('position in MBP')\n",
      "pylab.ylabel('mean displacement')"
     ],
     "language": "python",
     "metadata": {},
     "outputs": [
      {
       "metadata": {},
       "output_type": "pyout",
       "prompt_number": 18,
       "text": [
        "<matplotlib.text.Text at 0x1263ee70>"
       ]
      }
     ],
     "prompt_number": 18
    },
    {
     "cell_type": "code",
     "collapsed": false,
     "input": [
      "pylab.figure(figsize=(11,11))\n",
      "positions = np.array(sorted(hit_counts.keys()))\n",
      "counts = np.array([hit_counts[k] for k in positions])\n",
      "mean_count = np.mean(counts) \n",
      "stddev = np.std(counts)\n",
      "\n",
      "total_count = np.sum(counts)\n",
      "threshold = mean_count / 2.0\n",
      "idx_above_thresh = np.where(counts > threshold)\n",
      "my_counts = counts[idx_above_thresh]\n",
      "my_positions = positions[idx_above_thresh]\n",
      "\n",
      "pylab.yscale('log')\n",
      "pylab.plot(positions, counts, 'r.')\n",
      "pylab.plot(positions, mean_count * np.ones(positions.size),\n",
      "           'b-', label='mean')\n",
      "pylab.plot(positions, threshold * np.ones(positions.size),\n",
      "           'g-', label='threshold')\n",
      "\n",
      "for position, count in zip(my_positions, my_counts):\n",
      "    pylab.text(position, count, '%s (%.1f)' % (position, position / 3.0))\n",
      "\n",
      "pylab.xlabel('Insert position')\n",
      "pylab.ylabel('Count')\n",
      "pylab.legend()"
     ],
     "language": "python",
     "metadata": {},
     "outputs": [
      {
       "metadata": {},
       "output_type": "pyout",
       "prompt_number": 19,
       "text": [
        "<matplotlib.legend.Legend at 0x123bad50>"
       ]
      }
     ],
     "prompt_number": 19
    },
    {
     "cell_type": "code",
     "collapsed": false,
     "input": [],
     "language": "python",
     "metadata": {},
     "outputs": []
    }
   ],
   "metadata": {}
  }
 ]
}